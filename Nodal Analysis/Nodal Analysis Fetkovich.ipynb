{
 "cells": [
  {
   "cell_type": "code",
   "execution_count": 3,
   "id": "bf921f84",
   "metadata": {},
   "outputs": [],
   "source": [
    "# Import Library\n",
    "\n",
    "import numpy as np\n",
    "import pandas as pd\n",
    "import matplotlib.pyplot as plt\n",
    "from scipy.interpolate import interp1d"
   ]
  },
  {
   "cell_type": "code",
   "execution_count": 4,
   "id": "f31eb67b",
   "metadata": {},
   "outputs": [],
   "source": [
    "# Input Data\n",
    "\n",
    "q_list = [100, 250, 400, 550, 700, 850]\n",
    "pwf_list = [1300, 1200, 1100, 1000, 850, 700]       # psia\n",
    "p_res = 1400                                        # psia\n",
    "whp = 500                                           # psia\n",
    "gradient = 0.12                                     # psi/ft\n",
    "depth = 8000                                        # ft"
   ]
  },
  {
   "cell_type": "code",
   "execution_count": 5,
   "id": "c2aed083",
   "metadata": {},
   "outputs": [],
   "source": [
    "# Define Function (Log-log Regression)\n",
    "\n",
    "df = pd.DataFrame({\n",
    "    'q_stb': q_list,\n",
    "    'pwf_psig': pwf_list\n",
    "})\n",
    "df['delta^2'] = p_res**2 - df['pwf_psig']**2\n",
    "df['log_q'] = np.log10(df['q_stb'])\n",
    "df['log_delta2'] = np.log10(df['delta^2'])\n",
    "\n",
    "fit = np.polyfit(df['log_q'], df['log_delta2'], 1)\n",
    "poly_func = np.poly1d(fit)\n",
    "n = 1 / fit[0]\n",
    "c = q_list[0] / (p_res**2 - pwf_list[0]**2)**n"
   ]
  },
  {
   "cell_type": "code",
   "execution_count": 8,
   "id": "3d54e09c",
   "metadata": {},
   "outputs": [],
   "source": [
    "# Define IPR & VLP\n",
    "\n",
    "pwf_range = np.arange(100, p_res, 10)\n",
    "q_ipr = [c * (p_res**2 - pwf**2)**n for pwf in pwf_range]\n",
    "\n",
    "def vlp_model(q):\n",
    "    return whp + gradient * depth + 0.002 * q**1.5\n",
    "\n",
    "q_vlp = np.linspace(0, max(q_ipr)*1.1, 100)\n",
    "p_vlp = vlp_model(q_vlp)"
   ]
  },
  {
   "cell_type": "code",
   "execution_count": 10,
   "id": "530c45c3",
   "metadata": {},
   "outputs": [],
   "source": [
    "# Intersection of IPR & VLP\n",
    "\n",
    "ipr_func = interp1d(q_ipr, pwf_range, fill_value=\"extrapolate\")\n",
    "vlp_func = interp1d(q_vlp, p_vlp, fill_value=\"extrapolate\")\n",
    "\n",
    "q_common = np.linspace(0, min(max(q_ipr), max(q_vlp)), 200)\n",
    "p_ipr_common = ipr_func(q_common)\n",
    "p_vlp_common = vlp_func(q_common)\n",
    "delta_P = np.abs(p_ipr_common - p_vlp_common)\n",
    "idx_min = np.argmin(delta_P)\n",
    "q_intersect = q_common[idx_min]\n",
    "p_intersect = p_ipr_common[idx_min]"
   ]
  },
  {
   "cell_type": "code",
   "execution_count": null,
   "id": "3eb22812",
   "metadata": {},
   "outputs": [],
   "source": [
    "# Plot of IPR vs VLP (Oilfield Standard and Academic View)\n",
    "\n",
    "fig, axes = plt.subplots(1, 2, figsize=(14, 6), sharex=True)\n",
    "\n",
    "# (Left) Inverted Y-axis (Oilfield view)\n"
   ]
  }
 ],
 "metadata": {
  "kernelspec": {
   "display_name": "yohanesenv",
   "language": "python",
   "name": "python3"
  },
  "language_info": {
   "codemirror_mode": {
    "name": "ipython",
    "version": 3
   },
   "file_extension": ".py",
   "mimetype": "text/x-python",
   "name": "python",
   "nbconvert_exporter": "python",
   "pygments_lexer": "ipython3",
   "version": "3.10.13"
  }
 },
 "nbformat": 4,
 "nbformat_minor": 5
}
